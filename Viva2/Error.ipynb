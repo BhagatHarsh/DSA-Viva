{
 "cells": [
  {
   "cell_type": "code",
   "execution_count": null,
   "metadata": {
    "vscode": {
     "languageId": "plaintext"
    }
   },
   "outputs": [],
   "source": [
    "void traverse(Node* root) {\n",
    "    if (root == nullptr)\n",
    "        return;\n",
    "    cout << root->data << \" \";\n",
    "    traverse(root->left);\n",
    "    traverse(root->right);\n",
    "}"
   ]
  },
  {
   "cell_type": "code",
   "execution_count": null,
   "metadata": {
    "vscode": {
     "languageId": "plaintext"
    }
   },
   "outputs": [],
   "source": [
    "void traverse(Node* root) {\n",
    "    if (root == nullptr)\n",
    "        return;\n",
    "    traverse(root->left);\n",
    "    cout << root->data << \" \";\n",
    "    traverse(root->right);\n",
    "}"
   ]
  },
  {
   "cell_type": "code",
   "execution_count": null,
   "metadata": {
    "vscode": {
     "languageId": "plaintext"
    }
   },
   "outputs": [],
   "source": [
    "void traverse(Node* root) {\n",
    "    if (root == nullptr)\n",
    "        return;\n",
    "    traverse(root->left);\n",
    "    traverse(root->right);\n",
    "    cout << root->data << \" \";\n",
    "}"
   ]
  },
  {
   "cell_type": "markdown",
   "metadata": {},
   "source": [
    "HashMap: Counting Frequency of Elements"
   ]
  },
  {
   "cell_type": "code",
   "execution_count": null,
   "metadata": {
    "vscode": {
     "languageId": "plaintext"
    }
   },
   "outputs": [],
   "source": [
    "function countFrequency(array):\n",
    "    hashmap = {}  \n",
    "\n",
    "    for each item in array:\n",
    "        if hashmap[item] == 0:  // Mistake: This will throw an error if item is not in hashmap\n",
    "            hashmap[item] = 1\n",
    "        else:\n",
    "            hashmap[item] = hashmap[item] + 1\n",
    "\n",
    "    return hashmap\n"
   ]
  },
  {
   "cell_type": "markdown",
   "metadata": {},
   "source": [
    "Binary Tree: Finding the Maximum Depth"
   ]
  },
  {
   "cell_type": "code",
   "execution_count": null,
   "metadata": {
    "vscode": {
     "languageId": "plaintext"
    }
   },
   "outputs": [],
   "source": [
    "function maxDepth(node):\n",
    "    if node == null:\n",
    "        return 0\n",
    "\n",
    "    leftDepth = maxDepth(node.left)\n",
    "    rightDepth = maxDepth(node.right)\n",
    "\n",
    "    return leftDepth + rightDepth  \n"
   ]
  },
  {
   "cell_type": "markdown",
   "metadata": {},
   "source": [
    "Sorting: Bubble Sort"
   ]
  },
  {
   "cell_type": "code",
   "execution_count": null,
   "metadata": {
    "vscode": {
     "languageId": "plaintext"
    }
   },
   "outputs": [],
   "source": [
    "function bubbleSort(array):\n",
    "    for i from 0 to length(array) - 1:\n",
    "        for j from 0 to length(array) - 2:  // Mistake: Should go up to length(array) - i - 1\n",
    "            if array[j] > array[j + 1]:\n",
    "                swap(array[j], array[j + 1])\n"
   ]
  },
  {
   "cell_type": "markdown",
   "metadata": {},
   "source": [
    "Binary Search: Finding an Element in a Sorted Array"
   ]
  },
  {
   "cell_type": "code",
   "execution_count": null,
   "metadata": {
    "vscode": {
     "languageId": "plaintext"
    }
   },
   "outputs": [],
   "source": [
    "function binarySearch(array, target):\n",
    "    left = 0\n",
    "    right = length(array) - 1\n",
    "\n",
    "    while left < right: \n",
    "        mid = (left + right) / 2\n",
    "\n",
    "        if array[mid] == target:\n",
    "            return mid\n",
    "        else if array[mid] < target:\n",
    "            left = mid + 1\n",
    "        else:\n",
    "            right = mid - 1\n",
    "\n",
    "    return -1\n"
   ]
  },
  {
   "cell_type": "markdown",
   "metadata": {},
   "source": [
    "Linked List: Removing Duplicates from a Sorted Linked List"
   ]
  },
  {
   "cell_type": "code",
   "execution_count": null,
   "metadata": {
    "vscode": {
     "languageId": "plaintext"
    }
   },
   "outputs": [],
   "source": [
    "function removeDuplicates(head):\n",
    "    current = head\n",
    "\n",
    "    while current != null:\n",
    "        if current.value == current.next.value:  // Mistake: May cause a null pointer exception\n",
    "            current.next = current.next.next\n",
    "        else:\n",
    "            current = current.next\n",
    "\n",
    "    return head\n"
   ]
  }
 ],
 "metadata": {
  "language_info": {
   "name": "python"
  }
 },
 "nbformat": 4,
 "nbformat_minor": 2
}
