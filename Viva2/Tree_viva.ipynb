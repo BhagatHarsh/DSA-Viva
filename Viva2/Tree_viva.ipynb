{
  "nbformat": 4,
  "nbformat_minor": 0,
  "metadata": {
    "colab": {
      "provenance": []
    },
    "kernelspec": {
      "name": "python3",
      "display_name": "Python 3"
    },
    "language_info": {
      "name": "python"
    }
  },
  "cells": [
    {
      "cell_type": "code",
      "source": [
        "!pip install binarytree"
      ],
      "metadata": {
        "colab": {
          "base_uri": "https://localhost:8080/"
        },
        "id": "vyE-SA5WQedz",
        "outputId": "2828efc3-431d-4f9d-ebd3-aef50758324f"
      },
      "execution_count": 1,
      "outputs": [
        {
          "output_type": "stream",
          "name": "stdout",
          "text": [
            "Collecting binarytree\n",
            "  Downloading binarytree-6.5.1-py3-none-any.whl.metadata (9.8 kB)\n",
            "Requirement already satisfied: graphviz in /usr/local/lib/python3.10/dist-packages (from binarytree) (0.20.3)\n",
            "Requirement already satisfied: setuptools>=60.8.2 in /usr/local/lib/python3.10/dist-packages (from binarytree) (75.1.0)\n",
            "Collecting setuptools-scm>=5.0.1 (from setuptools-scm[toml]>=5.0.1->binarytree)\n",
            "  Downloading setuptools_scm-8.1.0-py3-none-any.whl.metadata (6.6 kB)\n",
            "Requirement already satisfied: packaging>=20 in /usr/local/lib/python3.10/dist-packages (from setuptools-scm>=5.0.1->setuptools-scm[toml]>=5.0.1->binarytree) (24.2)\n",
            "Requirement already satisfied: tomli>=1 in /usr/local/lib/python3.10/dist-packages (from setuptools-scm>=5.0.1->setuptools-scm[toml]>=5.0.1->binarytree) (2.0.2)\n",
            "Downloading binarytree-6.5.1-py3-none-any.whl (18 kB)\n",
            "Downloading setuptools_scm-8.1.0-py3-none-any.whl (43 kB)\n",
            "\u001b[2K   \u001b[90m━━━━━━━━━━━━━━━━━━━━━━━━━━━━━━━━━━━━━━━━\u001b[0m \u001b[32m43.7/43.7 kB\u001b[0m \u001b[31m1.8 MB/s\u001b[0m eta \u001b[36m0:00:00\u001b[0m\n",
            "\u001b[?25hInstalling collected packages: setuptools-scm, binarytree\n",
            "Successfully installed binarytree-6.5.1 setuptools-scm-8.1.0\n"
          ]
        }
      ]
    },
    {
      "cell_type": "markdown",
      "source": [
        "# Generate and Plot a Binary Tree"
      ],
      "metadata": {
        "id": "gkO3I02-OU9z"
      }
    },
    {
      "cell_type": "code",
      "execution_count": 2,
      "metadata": {
        "colab": {
          "base_uri": "https://localhost:8080/"
        },
        "id": "axVGerdmOMqN",
        "outputId": "fc89fd3d-c377-4077-ff79-cd52e1e299f6"
      },
      "outputs": [
        {
          "output_type": "stream",
          "name": "stdout",
          "text": [
            "Binary tree of any height :\n",
            "\n",
            "    _____13___\n",
            "   /          \\\n",
            "  8___        _14__\n",
            " /    \\      /     \\\n",
            "5     _3    12      7\n",
            "     /             / \\\n",
            "    11            0   1\n",
            "\n",
            "Binary tree of given height :\n",
            "\n",
            "  0__\n",
            " /   \\\n",
            "2     4\n",
            "     /\n",
            "    1\n",
            "\n",
            "Perfect binary tree of given height :\n",
            "\n",
            "    __2__\n",
            "   /     \\\n",
            "  3       1\n",
            " / \\     / \\\n",
            "0   6   5   4\n",
            "\n"
          ]
        }
      ],
      "source": [
        "from binarytree import tree\n",
        "\n",
        "\n",
        "# Create a random binary\n",
        "# tree of any height\n",
        "root = tree()\n",
        "print(\"Binary tree of any height :\")\n",
        "print(root)\n",
        "\n",
        "# Create a random binary\n",
        "# tree of given height\n",
        "root2 = tree(height = 2)\n",
        "print(\"Binary tree of given height :\")\n",
        "print(root2)\n",
        "\n",
        "# Create a random perfect\n",
        "# binary tree of given height\n",
        "root3 = tree(height = 2,\n",
        "\t\t\tis_perfect = True)\n",
        "print(\"Perfect binary tree of given height :\")\n",
        "print(root3)"
      ]
    },
    {
      "cell_type": "markdown",
      "source": [
        "#  Stepwise Traversals (Inorder, Preorder, Postorder)\n",
        "\n"
      ],
      "metadata": {
        "id": "D-A-VcZiOXWk"
      }
    },
    {
      "cell_type": "code",
      "source": [
        "binary_tree = root\n",
        "\n",
        "# Inorder traversal\n",
        "inorder = [node.value for node in binary_tree.inorder]\n",
        "print(\"\\nInorder Traversal Steps:\", inorder)\n",
        "\n",
        "# Preorder traversal\n",
        "preorder = [node.value for node in binary_tree.preorder]\n",
        "print(\"Preorder Traversal Steps:\", preorder)\n",
        "\n",
        "# Postorder traversal\n",
        "postorder = [node.value for node in binary_tree.postorder]\n",
        "print(\"Postorder Traversal Steps:\", postorder)\n"
      ],
      "metadata": {
        "colab": {
          "base_uri": "https://localhost:8080/"
        },
        "id": "5UFQz0TnOaKZ",
        "outputId": "35b37901-a6c5-4681-b02d-2c2fe1f58e0d"
      },
      "execution_count": 3,
      "outputs": [
        {
          "output_type": "stream",
          "name": "stdout",
          "text": [
            "\n",
            "Inorder Traversal Steps: [5, 8, 11, 3, 13, 12, 14, 0, 7, 1]\n",
            "Preorder Traversal Steps: [13, 8, 5, 3, 11, 14, 12, 7, 0, 1]\n",
            "Postorder Traversal Steps: [5, 11, 3, 8, 12, 0, 1, 7, 14, 13]\n"
          ]
        }
      ]
    },
    {
      "cell_type": "markdown",
      "source": [
        "# Heap"
      ],
      "metadata": {
        "id": "3b5Z4boO-EOP"
      }
    },
    {
      "cell_type": "code",
      "source": [
        "from binarytree import heap\n",
        "\n",
        "\n",
        "# Create a random max-heap\n",
        "root = heap()\n",
        "print('Max-heap of any height : \\n',\n",
        "\troot)\n",
        "\n",
        "# Create a random max-heap\n",
        "# of given height\n",
        "root2 = heap(height = 2)\n",
        "\n",
        "print('Max-heap of given height : \\n',\n",
        "\troot2)\n",
        "\n",
        "# Create a random perfect\n",
        "# min-heap of given height\n",
        "root3 = heap(height = 2,\n",
        "\t\t\tis_max = False,\n",
        "\t\t\tis_perfect = True)\n",
        "\n",
        "print('Perfect min-heap of given height : \\n',\n",
        "\troot3)\n"
      ],
      "metadata": {
        "colab": {
          "base_uri": "https://localhost:8080/"
        },
        "id": "dN4JpZdS-DkC",
        "outputId": "e74205d3-6d4c-4263-ee9f-524a439113fe"
      },
      "execution_count": 4,
      "outputs": [
        {
          "output_type": "stream",
          "name": "stdout",
          "text": [
            "Max-heap of any height : \n",
            " \n",
            "         ________14____\n",
            "        /              \\\n",
            "    ___13__             10\n",
            "   /       \\           /  \\\n",
            "  11        12        8    6\n",
            " /  \\      /  \\      /\n",
            "0    2    5    9    4\n",
            "\n",
            "Max-heap of given height : \n",
            " \n",
            "    6\n",
            "   / \\\n",
            "  3   2\n",
            " /\n",
            "1\n",
            "\n",
            "Perfect min-heap of given height : \n",
            " \n",
            "    __0__\n",
            "   /     \\\n",
            "  1       2\n",
            " / \\     / \\\n",
            "5   6   4   3\n",
            "\n"
          ]
        }
      ]
    },
    {
      "cell_type": "markdown",
      "source": [
        "# BST"
      ],
      "metadata": {
        "id": "fDGMeo69-whf"
      }
    },
    {
      "cell_type": "code",
      "source": [
        "from binarytree import bst\n",
        "\n",
        "\n",
        "# Create a random BST\n",
        "# of any height\n",
        "root = bst()\n",
        "print('BST of any height : \\n',\n",
        "\troot)\n",
        "\n",
        "# Create a random BST of\n",
        "# given height\n",
        "root2 = bst(height = 2)\n",
        "print('BST of given height : \\n',\n",
        "\troot2)\n",
        "\n",
        "# Create a random perfect\n",
        "# BST of given height\n",
        "root3 = bst(height = 2,\n",
        "\t\t\tis_perfect = True)\n",
        "print('Perfect BST of given height : \\n',\n",
        "\troot3)\n"
      ],
      "metadata": {
        "colab": {
          "base_uri": "https://localhost:8080/"
        },
        "id": "bB8dZuxw-xn8",
        "outputId": "365d060a-f5ae-43f9-d531-6a687bf40e8b"
      },
      "execution_count": 5,
      "outputs": [
        {
          "output_type": "stream",
          "name": "stdout",
          "text": [
            "BST of any height : \n",
            " \n",
            "      7________\n",
            "     /         \\\n",
            "    4       ____12\n",
            "   /       /      \\\n",
            "  2       10       13\n",
            " /       /  \\\n",
            "1       9    11\n",
            "\n",
            "BST of given height : \n",
            " \n",
            "  __3\n",
            " /   \\\n",
            "0     4\n",
            " \\     \\\n",
            "  1     6\n",
            "\n",
            "Perfect BST of given height : \n",
            " \n",
            "    __3__\n",
            "   /     \\\n",
            "  1       5\n",
            " / \\     / \\\n",
            "0   2   4   6\n",
            "\n"
          ]
        }
      ]
    }
  ]
}