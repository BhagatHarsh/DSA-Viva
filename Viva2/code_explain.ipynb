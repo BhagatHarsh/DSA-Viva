{
 "cells": [
  {
   "cell_type": "code",
   "execution_count": null,
   "metadata": {},
   "outputs": [],
   "source": [
    "class Node:\n",
    "    def __init__(self, data):\n",
    "        self.data = data\n",
    "        self.next = None\n",
    "\n",
    "def reverse_linked_list(head):\n",
    "    prev = None\n",
    "    current = head\n",
    "    while current:\n",
    "        next_node = current.next\n",
    "        current.next = prev\n",
    "        prev = current\n",
    "        current = next_node\n",
    "    return prev\n"
   ]
  },
  {
   "cell_type": "code",
   "execution_count": null,
   "metadata": {},
   "outputs": [],
   "source": [
    "class TreeNode:\n",
    "    def __init__(self, data):\n",
    "        self.data = data\n",
    "        self.left = None\n",
    "        self.right = None\n",
    "\n",
    "def tree_height(node):\n",
    "    if node is None:\n",
    "        return 0\n",
    "    left_height = tree_height(node.left)\n",
    "    right_height = tree_height(node.right)\n",
    "    return 1 + max(left_height, right_height)\n"
   ]
  },
  {
   "cell_type": "code",
   "execution_count": null,
   "metadata": {},
   "outputs": [],
   "source": [
    "def first_non_repeating_character(s):\n",
    "    frequency = {}\n",
    "    for char in s:\n",
    "        frequency[char] = frequency.get(char, 0) + 1\n",
    "    for char in s:\n",
    "        if frequency[char] == 1:\n",
    "            return char\n",
    "    return None\n"
   ]
  },
  {
   "cell_type": "code",
   "execution_count": null,
   "metadata": {},
   "outputs": [],
   "source": [
    "def insertion_sort(arr):\n",
    "    for i in range(1, len(arr)):\n",
    "        key = arr[i]\n",
    "        j = i - 1\n",
    "        while j >= 0 and key < arr[j]:\n",
    "            arr[j + 1] = arr[j]\n",
    "            j -= 1\n",
    "        arr[j + 1] = key\n",
    "    return arr\n"
   ]
  },
  {
   "cell_type": "code",
   "execution_count": null,
   "metadata": {},
   "outputs": [],
   "source": [
    "def preorder_traversal(node):\n",
    "    if node is None:\n",
    "        return []\n",
    "    return [node.data] + preorder_traversal(node.left) + preorder_traversal(node.right)\n"
   ]
  },
  {
   "cell_type": "code",
   "execution_count": null,
   "metadata": {},
   "outputs": [],
   "source": [
    "from collections import deque\n",
    "\n",
    "def level_order_traversal(root):\n",
    "    if root is None:\n",
    "        return []\n",
    "    queue = deque([root])\n",
    "    result = []\n",
    "    while queue:\n",
    "        node = queue.popleft()\n",
    "        result.append(node.data)\n",
    "        if node.left:\n",
    "            queue.append(node.left)\n",
    "        if node.right:\n",
    "            queue.append(node.right)\n",
    "    return result\n"
   ]
  },
  {
   "cell_type": "code",
   "execution_count": null,
   "metadata": {},
   "outputs": [],
   "source": [
    "def find_depth(root, value, depth=0):\n",
    "    if root is None:\n",
    "        return -1  # Node not found\n",
    "    if root.data == value:\n",
    "        return depth\n",
    "    left_depth = find_depth(root.left, value, depth + 1)\n",
    "    if left_depth != -1:\n",
    "        return left_depth\n",
    "    return find_depth(root.right, value, depth + 1)\n"
   ]
  },
  {
   "cell_type": "code",
   "execution_count": null,
   "metadata": {},
   "outputs": [],
   "source": [
    "def count_leaf_nodes(node):\n",
    "    if node is None:\n",
    "        return 0\n",
    "    if node.left is None and node.right is None:\n",
    "        return 1\n",
    "    return count_leaf_nodes(node.left) + count_leaf_nodes(node.right)\n"
   ]
  },
  {
   "cell_type": "code",
   "execution_count": null,
   "metadata": {},
   "outputs": [],
   "source": [
    "def find_lca(root, n1, n2):\n",
    "    if root is None:\n",
    "        return None\n",
    "    if root.data == n1 or root.data == n2:\n",
    "        return root\n",
    "    left_lca = find_lca(root.left, n1, n2)\n",
    "    right_lca = find_lca(root.right, n1, n2)\n",
    "    if left_lca and right_lca:\n",
    "        return root\n",
    "    return left_lca if left_lca else right_lca\n"
   ]
  },
  {
   "cell_type": "code",
   "execution_count": null,
   "metadata": {},
   "outputs": [],
   "source": [
    "def diameter(node):\n",
    "    def height(n):\n",
    "        if n is None:\n",
    "            return 0\n",
    "        return 1 + max(height(n.left), height(n.right))\n",
    "    \n",
    "    if node is None:\n",
    "        return 0\n",
    "    \n",
    "    left_height = height(node.left)\n",
    "    right_height = height(node.right)\n",
    "    left_diameter = diameter(node.left)\n",
    "    right_diameter = diameter(node.right)\n",
    "    \n",
    "    return max(left_height + right_height, max(left_diameter, right_diameter))\n"
   ]
  }
 ],
 "metadata": {
  "language_info": {
   "name": "python"
  }
 },
 "nbformat": 4,
 "nbformat_minor": 2
}
